{
 "cells": [
  {
   "cell_type": "code",
   "execution_count": null,
   "id": "ddddd925-11f0-4601-9f2c-be374f1d26bb",
   "metadata": {},
   "outputs": [],
   "source": [
    "from Bio.Seq import Seq\n",
    "# Original DNA sequence\n",
    "sequence = \"ATCG\"\n",
    "\n",
    "# Create a Biopython Seq object\n",
    "seq_object = Seq(sequence)\n",
    "\n",
    "# Use the reverse_complement() method to get the reverse complement\n",
    "reverse_complement = str(seq_object.reverse_complement())\n",
    "\n",
    "# Print the results\n",
    "print(f\"Original Sequence: {sequence}\")\n",
    "print(f\"Reverse Complement: {reverse_complement}\")\n"
   ]
  }
 ],
 "metadata": {
  "kernelspec": {
   "display_name": "Python 3 (ipykernel)",
   "language": "python",
   "name": "python3"
  },
  "language_info": {
   "codemirror_mode": {
    "name": "ipython",
    "version": 3
   },
   "file_extension": ".py",
   "mimetype": "text/x-python",
   "name": "python",
   "nbconvert_exporter": "python",
   "pygments_lexer": "ipython3",
   "version": "3.11.5"
  }
 },
 "nbformat": 4,
 "nbformat_minor": 5
}
