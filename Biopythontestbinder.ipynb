{
 "cells": [
  {
   "cell_type": "code",
   "execution_count": 1,
   "id": "ddddd925-11f0-4601-9f2c-be374f1d26bb",
   "metadata": {},
   "outputs": [
    {
     "ename": "NameError",
     "evalue": "name 'Seq' is not defined",
     "output_type": "error",
     "traceback": [
      "\u001b[1;31m---------------------------------------------------------------------------\u001b[0m",
      "\u001b[1;31mNameError\u001b[0m                                 Traceback (most recent call last)",
      "Cell \u001b[1;32mIn[1], line 5\u001b[0m\n\u001b[0;32m      2\u001b[0m sequence \u001b[38;5;241m=\u001b[39m \u001b[38;5;124m\"\u001b[39m\u001b[38;5;124mATCG\u001b[39m\u001b[38;5;124m\"\u001b[39m\n\u001b[0;32m      4\u001b[0m \u001b[38;5;66;03m# Create a Biopython Seq object\u001b[39;00m\n\u001b[1;32m----> 5\u001b[0m seq_object \u001b[38;5;241m=\u001b[39m Seq(sequence)\n\u001b[0;32m      7\u001b[0m \u001b[38;5;66;03m# Use the reverse_complement() method to get the reverse complement\u001b[39;00m\n\u001b[0;32m      8\u001b[0m reverse_complement \u001b[38;5;241m=\u001b[39m \u001b[38;5;28mstr\u001b[39m(seq_object\u001b[38;5;241m.\u001b[39mreverse_complement())\n",
      "\u001b[1;31mNameError\u001b[0m: name 'Seq' is not defined"
     ]
    }
   ],
   "source": [
    "# Original DNA sequence\n",
    "sequence = \"ATCG\"\n",
    "\n",
    "# Create a Biopython Seq object\n",
    "seq_object = Seq(sequence)\n",
    "\n",
    "# Use the reverse_complement() method to get the reverse complement\n",
    "reverse_complement = str(seq_object.reverse_complement())\n",
    "\n",
    "# Print the results\n",
    "print(f\"Original Sequence: {sequence}\")\n",
    "print(f\"Reverse Complement: {reverse_complement}\")\n"
   ]
  },
  {
   "cell_type": "code",
   "execution_count": null,
   "id": "a36911ad-a9b1-4c09-9b15-917eb91b85a3",
   "metadata": {},
   "outputs": [],
   "source": []
  }
 ],
 "metadata": {
  "kernelspec": {
   "display_name": "Python 3 (ipykernel)",
   "language": "python",
   "name": "python3"
  },
  "language_info": {
   "codemirror_mode": {
    "name": "ipython",
    "version": 3
   },
   "file_extension": ".py",
   "mimetype": "text/x-python",
   "name": "python",
   "nbconvert_exporter": "python",
   "pygments_lexer": "ipython3",
   "version": "3.11.5"
  }
 },
 "nbformat": 4,
 "nbformat_minor": 5
}
