{
 "cells": [
  {
   "cell_type": "code",
   "execution_count": 1,
   "id": "90aafcae-47df-4917-b017-4752981155b1",
   "metadata": {},
   "outputs": [
    {
     "ename": "ModuleNotFoundError",
     "evalue": "No module named 'altair'",
     "output_type": "error",
     "traceback": [
      "\u001b[1;31m---------------------------------------------------------------------------\u001b[0m",
      "\u001b[1;31mModuleNotFoundError\u001b[0m                       Traceback (most recent call last)",
      "Cell \u001b[1;32mIn[1], line 2\u001b[0m\n\u001b[0;32m      1\u001b[0m \u001b[38;5;66;03m# example_module_altair.py\u001b[39;00m\n\u001b[1;32m----> 2\u001b[0m \u001b[38;5;28;01mimport\u001b[39;00m \u001b[38;5;21;01maltair\u001b[39;00m \u001b[38;5;28;01mas\u001b[39;00m \u001b[38;5;21;01malt\u001b[39;00m\n\u001b[0;32m      3\u001b[0m \u001b[38;5;28;01mimport\u001b[39;00m \u001b[38;5;21;01mpandas\u001b[39;00m \u001b[38;5;28;01mas\u001b[39;00m \u001b[38;5;21;01mpd\u001b[39;00m\n\u001b[0;32m      5\u001b[0m \u001b[38;5;28;01mdef\u001b[39;00m \u001b[38;5;21mplot_data\u001b[39m():\n\u001b[0;32m      6\u001b[0m     \u001b[38;5;66;03m# Generate some sample data\u001b[39;00m\n",
      "\u001b[1;31mModuleNotFoundError\u001b[0m: No module named 'altair'"
     ]
    }
   ],
   "source": [
    "# example_module_altair.py\n",
    "import altair as alt\n",
    "import pandas as pd\n",
    "\n",
    "def plot_data():\n",
    "    # Generate some sample data\n",
    "    data = pd.DataFrame({\n",
    "        'X': range(1, 11),\n",
    "        'Y': [x**2 for x in range(1, 11)]\n",
    "    })\n",
    "\n",
    "    # Create a scatter plot using Altair\n",
    "    chart = alt.Chart(data).mark_circle().encode(\n",
    "        x='X',\n",
    "        y='Y'\n",
    "    ).properties(\n",
    "        title='Altair Scatter Plot'\n",
    "    )\n",
    "\n",
    "    # Display the plot\n",
    "    chart.show()\n"
   ]
  },
  {
   "cell_type": "code",
   "execution_count": null,
   "id": "2fe5a8da-e680-426e-aab1-d4d49d3b019e",
   "metadata": {},
   "outputs": [],
   "source": []
  }
 ],
 "metadata": {
  "kernelspec": {
   "display_name": "Python 3 (ipykernel)",
   "language": "python",
   "name": "python3"
  },
  "language_info": {
   "codemirror_mode": {
    "name": "ipython",
    "version": 3
   },
   "file_extension": ".py",
   "mimetype": "text/x-python",
   "name": "python",
   "nbconvert_exporter": "python",
   "pygments_lexer": "ipython3",
   "version": "3.11.5"
  }
 },
 "nbformat": 4,
 "nbformat_minor": 5
}
